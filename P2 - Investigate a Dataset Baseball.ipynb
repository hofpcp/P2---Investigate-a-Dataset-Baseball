{
 "cells": [
  {
   "cell_type": "markdown",
   "metadata": {},
   "source": [
    "## P2 - Investigate a Dataset\n",
    "\n",
    "### Student: Peter Carsten Petersen\n",
    "### Date: May 11th 2016\n",
    "\n",
    "\n",
    "For this Project I have reviewed the data found at http://www.seanlahman.com/baseball-archive/statistics/\n",
    "and based on this I have defined the following questions, which i will answer using Data Analysis techniques with the aid of Python and Libraries Numpy and Pandas.\n",
    "\n",
    "### Age analysis\n",
    "1. Which player was the youngest at debut and which player was oldest at last game\n",
    "2. What is the Average age of ball players per season in the period 1871-2015\n",
    "3. Which year had the highest average age\n",
    "4. Is their a possible relationship between Average age per season and length of career over time\n",
    "\n",
    "### Wild Card analysis\n",
    "5. Which Teams have earned a Wild Card per season and what is the frequency per team\n",
    "6. What is the frequency of teams earning wild card per division in each League\n",
    "7. Is One league better than the other in Post Season performance\n",
    "8. Have any Wild card teams go on to win the World Series\n"
   ]
  },
  {
   "cell_type": "markdown",
   "metadata": {},
   "source": [
    "## Analysis limitations\n",
    "\n",
    "The analysis presented in this report and accompanying results/statements are delivered with the following limitations:\n",
    "\n",
    "- Generally speaking as we have not ourselves collected the data, we cannot be completely sure as to the completeness of the datasets from which the analyzes has been made, nor can we with complete certainty make any statement as to data quality.\n",
    "\n",
    "\n",
    "- We can however give some comfort to the quality of datasets as they have been worked on and update anually since 1995, also as the data in these datasets are factual rather than subjective, i.e. player data such as date of birth, date of debut etc. is not open for interpretation.  \n",
    "\n",
    "\n",
    "- Main Dataset used in \"Age Analysis\" is in raw form 18,846 rows of data, after removing rows including missing data, the dataset is reduced to 18,202 rows of data >95% of original.\n",
    "\n",
    "\n",
    "- The decision to remove missing data rather than, filling with for example the mean of existing data or using a regression model, is based on the size of raw data and the limited number of missing data rows. i.e. we are losing less than 5% of the raw data and are still left with a significant data amount. Also since we are looking at averages over time on a large dataset, the mean or regression models for filling missing data would most likely not change the overall conclusion, it would only change should the missing data in fact have included values significantly removed from the average, and none of these models if used insted would reflect this.\n",
    "\n",
    "\n",
    "- The results of analyzes are based solely on the information from the datasets and calculation on these. There are however a host of other factors which could be interesting to include in the analyzes, and which could increase the quality of conclusions. Such as Historical events impacting players availability to play, collective bargaining/Salary Cap impact on young/old players respective career lenghts, relative form of WIld Card teams leading up to post season, injuries on key players, draft systems etc.\n",
    "\n",
    "\n",
    "- Please note that the conclusions in the analyzes are not statistically sound conclusions, as we have not conducted any statistical testing (such as t-test, z-test etc.) where this would be relevant.  \n"
   ]
  },
  {
   "cell_type": "code",
   "execution_count": 1,
   "metadata": {
    "collapsed": false,
    "scrolled": false
   },
   "outputs": [
    {
     "data": {
      "text/html": [
       "<div>\n",
       "<table border=\"1\" class=\"dataframe\">\n",
       "  <thead>\n",
       "    <tr style=\"text-align: right;\">\n",
       "      <th></th>\n",
       "      <th>playerID</th>\n",
       "      <th>birthYear</th>\n",
       "      <th>birthMonth</th>\n",
       "      <th>birthDay</th>\n",
       "      <th>birthCountry</th>\n",
       "      <th>birthState</th>\n",
       "      <th>birthCity</th>\n",
       "      <th>deathYear</th>\n",
       "      <th>deathMonth</th>\n",
       "      <th>deathDay</th>\n",
       "      <th>...</th>\n",
       "      <th>nameLast</th>\n",
       "      <th>nameGiven</th>\n",
       "      <th>weight</th>\n",
       "      <th>height</th>\n",
       "      <th>bats</th>\n",
       "      <th>throws</th>\n",
       "      <th>debut</th>\n",
       "      <th>finalGame</th>\n",
       "      <th>retroID</th>\n",
       "      <th>bbrefID</th>\n",
       "    </tr>\n",
       "  </thead>\n",
       "  <tbody>\n",
       "    <tr>\n",
       "      <th>0</th>\n",
       "      <td>aardsda01</td>\n",
       "      <td>1981.0</td>\n",
       "      <td>12.0</td>\n",
       "      <td>27.0</td>\n",
       "      <td>USA</td>\n",
       "      <td>CO</td>\n",
       "      <td>Denver</td>\n",
       "      <td>NaN</td>\n",
       "      <td>NaN</td>\n",
       "      <td>NaN</td>\n",
       "      <td>...</td>\n",
       "      <td>Aardsma</td>\n",
       "      <td>David Allan</td>\n",
       "      <td>220.0</td>\n",
       "      <td>75.0</td>\n",
       "      <td>R</td>\n",
       "      <td>R</td>\n",
       "      <td>2004-04-06</td>\n",
       "      <td>2015-08-23</td>\n",
       "      <td>aardd001</td>\n",
       "      <td>aardsda01</td>\n",
       "    </tr>\n",
       "    <tr>\n",
       "      <th>1</th>\n",
       "      <td>aaronha01</td>\n",
       "      <td>1934.0</td>\n",
       "      <td>2.0</td>\n",
       "      <td>5.0</td>\n",
       "      <td>USA</td>\n",
       "      <td>AL</td>\n",
       "      <td>Mobile</td>\n",
       "      <td>NaN</td>\n",
       "      <td>NaN</td>\n",
       "      <td>NaN</td>\n",
       "      <td>...</td>\n",
       "      <td>Aaron</td>\n",
       "      <td>Henry Louis</td>\n",
       "      <td>180.0</td>\n",
       "      <td>72.0</td>\n",
       "      <td>R</td>\n",
       "      <td>R</td>\n",
       "      <td>1954-04-13</td>\n",
       "      <td>1976-10-03</td>\n",
       "      <td>aaroh101</td>\n",
       "      <td>aaronha01</td>\n",
       "    </tr>\n",
       "    <tr>\n",
       "      <th>2</th>\n",
       "      <td>aaronto01</td>\n",
       "      <td>1939.0</td>\n",
       "      <td>8.0</td>\n",
       "      <td>5.0</td>\n",
       "      <td>USA</td>\n",
       "      <td>AL</td>\n",
       "      <td>Mobile</td>\n",
       "      <td>1984.0</td>\n",
       "      <td>8.0</td>\n",
       "      <td>16.0</td>\n",
       "      <td>...</td>\n",
       "      <td>Aaron</td>\n",
       "      <td>Tommie Lee</td>\n",
       "      <td>190.0</td>\n",
       "      <td>75.0</td>\n",
       "      <td>R</td>\n",
       "      <td>R</td>\n",
       "      <td>1962-04-10</td>\n",
       "      <td>1971-09-26</td>\n",
       "      <td>aarot101</td>\n",
       "      <td>aaronto01</td>\n",
       "    </tr>\n",
       "    <tr>\n",
       "      <th>3</th>\n",
       "      <td>aasedo01</td>\n",
       "      <td>1954.0</td>\n",
       "      <td>9.0</td>\n",
       "      <td>8.0</td>\n",
       "      <td>USA</td>\n",
       "      <td>CA</td>\n",
       "      <td>Orange</td>\n",
       "      <td>NaN</td>\n",
       "      <td>NaN</td>\n",
       "      <td>NaN</td>\n",
       "      <td>...</td>\n",
       "      <td>Aase</td>\n",
       "      <td>Donald William</td>\n",
       "      <td>190.0</td>\n",
       "      <td>75.0</td>\n",
       "      <td>R</td>\n",
       "      <td>R</td>\n",
       "      <td>1977-07-26</td>\n",
       "      <td>1990-10-03</td>\n",
       "      <td>aased001</td>\n",
       "      <td>aasedo01</td>\n",
       "    </tr>\n",
       "    <tr>\n",
       "      <th>4</th>\n",
       "      <td>abadan01</td>\n",
       "      <td>1972.0</td>\n",
       "      <td>8.0</td>\n",
       "      <td>25.0</td>\n",
       "      <td>USA</td>\n",
       "      <td>FL</td>\n",
       "      <td>Palm Beach</td>\n",
       "      <td>NaN</td>\n",
       "      <td>NaN</td>\n",
       "      <td>NaN</td>\n",
       "      <td>...</td>\n",
       "      <td>Abad</td>\n",
       "      <td>Fausto Andres</td>\n",
       "      <td>184.0</td>\n",
       "      <td>73.0</td>\n",
       "      <td>L</td>\n",
       "      <td>L</td>\n",
       "      <td>2001-09-10</td>\n",
       "      <td>2006-04-13</td>\n",
       "      <td>abada001</td>\n",
       "      <td>abadan01</td>\n",
       "    </tr>\n",
       "  </tbody>\n",
       "</table>\n",
       "<p>5 rows × 24 columns</p>\n",
       "</div>"
      ],
      "text/plain": [
       "    playerID  birthYear  birthMonth  birthDay birthCountry birthState  \\\n",
       "0  aardsda01     1981.0        12.0      27.0          USA         CO   \n",
       "1  aaronha01     1934.0         2.0       5.0          USA         AL   \n",
       "2  aaronto01     1939.0         8.0       5.0          USA         AL   \n",
       "3   aasedo01     1954.0         9.0       8.0          USA         CA   \n",
       "4   abadan01     1972.0         8.0      25.0          USA         FL   \n",
       "\n",
       "    birthCity  deathYear  deathMonth  deathDay    ...     nameLast  \\\n",
       "0      Denver        NaN         NaN       NaN    ...      Aardsma   \n",
       "1      Mobile        NaN         NaN       NaN    ...        Aaron   \n",
       "2      Mobile     1984.0         8.0      16.0    ...        Aaron   \n",
       "3      Orange        NaN         NaN       NaN    ...         Aase   \n",
       "4  Palm Beach        NaN         NaN       NaN    ...         Abad   \n",
       "\n",
       "        nameGiven weight height bats throws       debut   finalGame   retroID  \\\n",
       "0     David Allan  220.0   75.0    R      R  2004-04-06  2015-08-23  aardd001   \n",
       "1     Henry Louis  180.0   72.0    R      R  1954-04-13  1976-10-03  aaroh101   \n",
       "2      Tommie Lee  190.0   75.0    R      R  1962-04-10  1971-09-26  aarot101   \n",
       "3  Donald William  190.0   75.0    R      R  1977-07-26  1990-10-03  aased001   \n",
       "4   Fausto Andres  184.0   73.0    L      L  2001-09-10  2006-04-13  abada001   \n",
       "\n",
       "     bbrefID  \n",
       "0  aardsda01  \n",
       "1  aaronha01  \n",
       "2  aaronto01  \n",
       "3   aasedo01  \n",
       "4   abadan01  \n",
       "\n",
       "[5 rows x 24 columns]"
      ]
     },
     "execution_count": 1,
     "metadata": {},
     "output_type": "execute_result"
    }
   ],
   "source": [
    "# In order to do this analysis we must first import necessary libraries\n",
    "import pandas as pd\n",
    "from pandas import Series,DataFrame\n",
    "import numpy as np\n",
    "import matplotlib.pyplot as plt\n",
    "import seaborn as sns\n",
    "%matplotlib inline\n",
    "\n",
    "\n",
    "# Next we load the \"master.csv\" file containing detailed information for all players who have played in Major League Baseball, \n",
    "# including date of birth as well as dates for debut and last game. \"master.csv\" is loaded as Pandas dataframe and \n",
    "# named \"baseball_df\".\n",
    "\n",
    "baseball_df = pd.read_csv('master.csv')\n",
    "baseball_df.head()\n",
    "    "
   ]
  },
  {
   "cell_type": "code",
   "execution_count": 2,
   "metadata": {
    "collapsed": false
   },
   "outputs": [
    {
     "name": "stdout",
     "output_type": "stream",
     "text": [
      "<class 'pandas.core.frame.DataFrame'>\n",
      "RangeIndex: 18846 entries, 0 to 18845\n",
      "Data columns (total 24 columns):\n",
      "playerID        18846 non-null object\n",
      "birthYear       18703 non-null float64\n",
      "birthMonth      18531 non-null float64\n",
      "birthDay        18382 non-null float64\n",
      "birthCountry    18773 non-null object\n",
      "birthState      18220 non-null object\n",
      "birthCity       18647 non-null object\n",
      "deathYear       9336 non-null float64\n",
      "deathMonth      9335 non-null float64\n",
      "deathDay        9334 non-null float64\n",
      "deathCountry    9329 non-null object\n",
      "deathState      9277 non-null object\n",
      "deathCity       9325 non-null object\n",
      "nameFirst       18807 non-null object\n",
      "nameLast        18846 non-null object\n",
      "nameGiven       18807 non-null object\n",
      "weight          17975 non-null float64\n",
      "height          18041 non-null float64\n",
      "bats            17655 non-null object\n",
      "throws          17868 non-null object\n",
      "debut           18653 non-null object\n",
      "finalGame       18653 non-null object\n",
      "retroID         18792 non-null object\n",
      "bbrefID         18845 non-null object\n",
      "dtypes: float64(8), object(16)\n",
      "memory usage: 3.5+ MB\n"
     ]
    }
   ],
   "source": [
    "# baseball_df is larger than can be viewed in jupyter, so instead we call .info on it to see some more details.\n",
    "\n",
    "baseball_df.info()"
   ]
  },
  {
   "cell_type": "markdown",
   "metadata": {},
   "source": [
    "From above info we can see that baseball_df includes a large number of columns and since we only need a few of these to answer\n",
    "the Age Analysis questions, we can extract only these to have a more manageable dataframe.\n",
    "Furthermore we see that number of records for playerID/birthYear/debut/finalGame are not equal, i.e. there is missing data,\n",
    "there are a number of ways to fill these, but for this exercise I have decided to remove rows with missing data, this will still leave us with more than 18.000 records >95% of total.\n"
   ]
  },
  {
   "cell_type": "code",
   "execution_count": 3,
   "metadata": {
    "collapsed": false
   },
   "outputs": [
    {
     "data": {
      "text/html": [
       "<div>\n",
       "<table border=\"1\" class=\"dataframe\">\n",
       "  <thead>\n",
       "    <tr style=\"text-align: right;\">\n",
       "      <th></th>\n",
       "      <th>index</th>\n",
       "      <th>playerID</th>\n",
       "      <th>birthYear</th>\n",
       "      <th>birthMonth</th>\n",
       "      <th>birthDay</th>\n",
       "      <th>debut</th>\n",
       "      <th>finalGame</th>\n",
       "    </tr>\n",
       "  </thead>\n",
       "  <tbody>\n",
       "    <tr>\n",
       "      <th>18197</th>\n",
       "      <td>18841</td>\n",
       "      <td>zupofr01</td>\n",
       "      <td>1939.0</td>\n",
       "      <td>8.0</td>\n",
       "      <td>29.0</td>\n",
       "      <td>1957-07-01</td>\n",
       "      <td>1961-05-09</td>\n",
       "    </tr>\n",
       "    <tr>\n",
       "      <th>18198</th>\n",
       "      <td>18842</td>\n",
       "      <td>zuvelpa01</td>\n",
       "      <td>1958.0</td>\n",
       "      <td>10.0</td>\n",
       "      <td>31.0</td>\n",
       "      <td>1982-09-04</td>\n",
       "      <td>1991-05-02</td>\n",
       "    </tr>\n",
       "    <tr>\n",
       "      <th>18199</th>\n",
       "      <td>18843</td>\n",
       "      <td>zuverge01</td>\n",
       "      <td>1924.0</td>\n",
       "      <td>8.0</td>\n",
       "      <td>20.0</td>\n",
       "      <td>1951-04-21</td>\n",
       "      <td>1959-06-15</td>\n",
       "    </tr>\n",
       "    <tr>\n",
       "      <th>18200</th>\n",
       "      <td>18844</td>\n",
       "      <td>zwilldu01</td>\n",
       "      <td>1888.0</td>\n",
       "      <td>11.0</td>\n",
       "      <td>2.0</td>\n",
       "      <td>1910-08-14</td>\n",
       "      <td>1916-07-12</td>\n",
       "    </tr>\n",
       "    <tr>\n",
       "      <th>18201</th>\n",
       "      <td>18845</td>\n",
       "      <td>zychto01</td>\n",
       "      <td>1990.0</td>\n",
       "      <td>8.0</td>\n",
       "      <td>7.0</td>\n",
       "      <td>2015-09-04</td>\n",
       "      <td>2015-10-03</td>\n",
       "    </tr>\n",
       "  </tbody>\n",
       "</table>\n",
       "</div>"
      ],
      "text/plain": [
       "       index   playerID  birthYear  birthMonth  birthDay       debut  \\\n",
       "18197  18841   zupofr01     1939.0         8.0      29.0  1957-07-01   \n",
       "18198  18842  zuvelpa01     1958.0        10.0      31.0  1982-09-04   \n",
       "18199  18843  zuverge01     1924.0         8.0      20.0  1951-04-21   \n",
       "18200  18844  zwilldu01     1888.0        11.0       2.0  1910-08-14   \n",
       "18201  18845   zychto01     1990.0         8.0       7.0  2015-09-04   \n",
       "\n",
       "        finalGame  \n",
       "18197  1961-05-09  \n",
       "18198  1991-05-02  \n",
       "18199  1959-06-15  \n",
       "18200  1916-07-12  \n",
       "18201  2015-10-03  "
      ]
     },
     "execution_count": 3,
     "metadata": {},
     "output_type": "execute_result"
    }
   ],
   "source": [
    "# So we create new dataframe \"baseball1_df\" with only the needed columns and rows with missing data removed. Furthermore \n",
    "# we reset the dataframe index so that we have and unbroken chain of index.\n",
    "\n",
    "baseball1_df = baseball_df[['playerID','birthYear','birthMonth','birthDay','debut','finalGame']].dropna()\n",
    "\n",
    "baseball1_df.reset_index(inplace = True)\n",
    "\n",
    "baseball1_df.tail()\n"
   ]
  },
  {
   "cell_type": "code",
   "execution_count": 4,
   "metadata": {
    "collapsed": false
   },
   "outputs": [
    {
     "name": "stdout",
     "output_type": "stream",
     "text": [
      "<class 'pandas.core.frame.DataFrame'>\n",
      "RangeIndex: 18202 entries, 0 to 18201\n",
      "Data columns (total 7 columns):\n",
      "index         18202 non-null int64\n",
      "playerID      18202 non-null object\n",
      "birthYear     18202 non-null float64\n",
      "birthMonth    18202 non-null float64\n",
      "birthDay      18202 non-null float64\n",
      "debut         18202 non-null object\n",
      "finalGame     18202 non-null object\n",
      "dtypes: float64(3), int64(1), object(3)\n",
      "memory usage: 995.5+ KB\n"
     ]
    }
   ],
   "source": [
    "baseball1_df.info()"
   ]
  },
  {
   "cell_type": "markdown",
   "metadata": {},
   "source": [
    "Now we have something more manageable and as expected still more that 18,000 rows. But there are still some problems with the\n",
    "data. The actual birthday is in 3 differents columns and none of the data is in a usable datetime format.\n",
    "This will be fixed by adding the birthYear+birthMonth+birthDay as strings in a new column for each row, and following that\n",
    "all columns needed to answer the Age Analysis questions are converted to a usable date format."
   ]
  },
  {
   "cell_type": "code",
   "execution_count": 5,
   "metadata": {
    "collapsed": false
   },
   "outputs": [
    {
     "data": {
      "text/html": [
       "<div>\n",
       "<table border=\"1\" class=\"dataframe\">\n",
       "  <thead>\n",
       "    <tr style=\"text-align: right;\">\n",
       "      <th></th>\n",
       "      <th>index</th>\n",
       "      <th>playerID</th>\n",
       "      <th>birthYear</th>\n",
       "      <th>birthMonth</th>\n",
       "      <th>birthDay</th>\n",
       "      <th>debut</th>\n",
       "      <th>finalGame</th>\n",
       "      <th>birthDayDate</th>\n",
       "    </tr>\n",
       "  </thead>\n",
       "  <tbody>\n",
       "    <tr>\n",
       "      <th>0</th>\n",
       "      <td>0</td>\n",
       "      <td>aardsda01</td>\n",
       "      <td>1981.0</td>\n",
       "      <td>12.0</td>\n",
       "      <td>27.0</td>\n",
       "      <td>2004-04-06</td>\n",
       "      <td>2015-08-23</td>\n",
       "      <td>1981-12-27</td>\n",
       "    </tr>\n",
       "    <tr>\n",
       "      <th>1</th>\n",
       "      <td>1</td>\n",
       "      <td>aaronha01</td>\n",
       "      <td>1934.0</td>\n",
       "      <td>2.0</td>\n",
       "      <td>5.0</td>\n",
       "      <td>1954-04-13</td>\n",
       "      <td>1976-10-03</td>\n",
       "      <td>1934-02-05</td>\n",
       "    </tr>\n",
       "    <tr>\n",
       "      <th>2</th>\n",
       "      <td>2</td>\n",
       "      <td>aaronto01</td>\n",
       "      <td>1939.0</td>\n",
       "      <td>8.0</td>\n",
       "      <td>5.0</td>\n",
       "      <td>1962-04-10</td>\n",
       "      <td>1971-09-26</td>\n",
       "      <td>1939-08-05</td>\n",
       "    </tr>\n",
       "    <tr>\n",
       "      <th>3</th>\n",
       "      <td>3</td>\n",
       "      <td>aasedo01</td>\n",
       "      <td>1954.0</td>\n",
       "      <td>9.0</td>\n",
       "      <td>8.0</td>\n",
       "      <td>1977-07-26</td>\n",
       "      <td>1990-10-03</td>\n",
       "      <td>1954-09-08</td>\n",
       "    </tr>\n",
       "    <tr>\n",
       "      <th>4</th>\n",
       "      <td>4</td>\n",
       "      <td>abadan01</td>\n",
       "      <td>1972.0</td>\n",
       "      <td>8.0</td>\n",
       "      <td>25.0</td>\n",
       "      <td>2001-09-10</td>\n",
       "      <td>2006-04-13</td>\n",
       "      <td>1972-08-25</td>\n",
       "    </tr>\n",
       "  </tbody>\n",
       "</table>\n",
       "</div>"
      ],
      "text/plain": [
       "   index   playerID  birthYear  birthMonth  birthDay      debut  finalGame  \\\n",
       "0      0  aardsda01     1981.0        12.0      27.0 2004-04-06 2015-08-23   \n",
       "1      1  aaronha01     1934.0         2.0       5.0 1954-04-13 1976-10-03   \n",
       "2      2  aaronto01     1939.0         8.0       5.0 1962-04-10 1971-09-26   \n",
       "3      3   aasedo01     1954.0         9.0       8.0 1977-07-26 1990-10-03   \n",
       "4      4   abadan01     1972.0         8.0      25.0 2001-09-10 2006-04-13   \n",
       "\n",
       "  birthDayDate  \n",
       "0   1981-12-27  \n",
       "1   1934-02-05  \n",
       "2   1939-08-05  \n",
       "3   1954-09-08  \n",
       "4   1972-08-25  "
      ]
     },
     "execution_count": 5,
     "metadata": {},
     "output_type": "execute_result"
    }
   ],
   "source": [
    "for x in range(len(baseball1_df.index)):\n",
    "    baseball1_df.loc[x,'birthDayDate'] = str(int(baseball1_df.loc[x,'birthYear'])) + '-' + str(int(baseball1_df.loc[x,'birthMonth'])) + '-' + str(int(baseball1_df.loc[x,'birthDay']))\n",
    "\n",
    "\n",
    "baseball1_df['debut'] = pd.to_datetime(baseball1_df['debut'])\n",
    "baseball1_df['finalGame'] = pd.to_datetime(baseball1_df['finalGame'])\n",
    "baseball1_df['birthDayDate'] = pd.to_datetime(baseball1_df['birthDayDate'])\n",
    "baseball1_df.head()"
   ]
  },
  {
   "cell_type": "markdown",
   "metadata": {},
   "source": [
    "Now that data is in a similar format, we can extend dataframe with 2 new columns \"ageAtDebut\" and \"ageAtFinal\" which we can use\n",
    "to answer Question 1"
   ]
  },
  {
   "cell_type": "code",
   "execution_count": 6,
   "metadata": {
    "collapsed": false,
    "scrolled": true
   },
   "outputs": [
    {
     "data": {
      "text/html": [
       "<div>\n",
       "<table border=\"1\" class=\"dataframe\">\n",
       "  <thead>\n",
       "    <tr style=\"text-align: right;\">\n",
       "      <th></th>\n",
       "      <th>index</th>\n",
       "      <th>playerID</th>\n",
       "      <th>birthYear</th>\n",
       "      <th>birthMonth</th>\n",
       "      <th>birthDay</th>\n",
       "      <th>debut</th>\n",
       "      <th>finalGame</th>\n",
       "      <th>birthDayDate</th>\n",
       "      <th>ageAtDebut</th>\n",
       "      <th>ageAtFinal</th>\n",
       "    </tr>\n",
       "  </thead>\n",
       "  <tbody>\n",
       "    <tr>\n",
       "      <th>0</th>\n",
       "      <td>0</td>\n",
       "      <td>aardsda01</td>\n",
       "      <td>1981.0</td>\n",
       "      <td>12.0</td>\n",
       "      <td>27.0</td>\n",
       "      <td>2004-04-06</td>\n",
       "      <td>2015-08-23</td>\n",
       "      <td>1981-12-27</td>\n",
       "      <td>8136 days</td>\n",
       "      <td>12292 days</td>\n",
       "    </tr>\n",
       "    <tr>\n",
       "      <th>1</th>\n",
       "      <td>1</td>\n",
       "      <td>aaronha01</td>\n",
       "      <td>1934.0</td>\n",
       "      <td>2.0</td>\n",
       "      <td>5.0</td>\n",
       "      <td>1954-04-13</td>\n",
       "      <td>1976-10-03</td>\n",
       "      <td>1934-02-05</td>\n",
       "      <td>7372 days</td>\n",
       "      <td>15581 days</td>\n",
       "    </tr>\n",
       "    <tr>\n",
       "      <th>2</th>\n",
       "      <td>2</td>\n",
       "      <td>aaronto01</td>\n",
       "      <td>1939.0</td>\n",
       "      <td>8.0</td>\n",
       "      <td>5.0</td>\n",
       "      <td>1962-04-10</td>\n",
       "      <td>1971-09-26</td>\n",
       "      <td>1939-08-05</td>\n",
       "      <td>8284 days</td>\n",
       "      <td>11740 days</td>\n",
       "    </tr>\n",
       "    <tr>\n",
       "      <th>3</th>\n",
       "      <td>3</td>\n",
       "      <td>aasedo01</td>\n",
       "      <td>1954.0</td>\n",
       "      <td>9.0</td>\n",
       "      <td>8.0</td>\n",
       "      <td>1977-07-26</td>\n",
       "      <td>1990-10-03</td>\n",
       "      <td>1954-09-08</td>\n",
       "      <td>8357 days</td>\n",
       "      <td>13174 days</td>\n",
       "    </tr>\n",
       "    <tr>\n",
       "      <th>4</th>\n",
       "      <td>4</td>\n",
       "      <td>abadan01</td>\n",
       "      <td>1972.0</td>\n",
       "      <td>8.0</td>\n",
       "      <td>25.0</td>\n",
       "      <td>2001-09-10</td>\n",
       "      <td>2006-04-13</td>\n",
       "      <td>1972-08-25</td>\n",
       "      <td>10608 days</td>\n",
       "      <td>12284 days</td>\n",
       "    </tr>\n",
       "  </tbody>\n",
       "</table>\n",
       "</div>"
      ],
      "text/plain": [
       "   index   playerID  birthYear  birthMonth  birthDay      debut  finalGame  \\\n",
       "0      0  aardsda01     1981.0        12.0      27.0 2004-04-06 2015-08-23   \n",
       "1      1  aaronha01     1934.0         2.0       5.0 1954-04-13 1976-10-03   \n",
       "2      2  aaronto01     1939.0         8.0       5.0 1962-04-10 1971-09-26   \n",
       "3      3   aasedo01     1954.0         9.0       8.0 1977-07-26 1990-10-03   \n",
       "4      4   abadan01     1972.0         8.0      25.0 2001-09-10 2006-04-13   \n",
       "\n",
       "  birthDayDate  ageAtDebut  ageAtFinal  \n",
       "0   1981-12-27   8136 days  12292 days  \n",
       "1   1934-02-05   7372 days  15581 days  \n",
       "2   1939-08-05   8284 days  11740 days  \n",
       "3   1954-09-08   8357 days  13174 days  \n",
       "4   1972-08-25  10608 days  12284 days  "
      ]
     },
     "execution_count": 6,
     "metadata": {},
     "output_type": "execute_result"
    }
   ],
   "source": [
    "baseball1_df['ageAtDebut'] = baseball1_df['debut'] - baseball1_df['birthDayDate']\n",
    "baseball1_df['ageAtFinal'] = baseball1_df['finalGame'] - baseball1_df['birthDayDate']\n",
    "baseball1_df.head()"
   ]
  },
  {
   "cell_type": "code",
   "execution_count": 7,
   "metadata": {
    "collapsed": false
   },
   "outputs": [
    {
     "data": {
      "text/plain": [
       "index                            8384\n",
       "playerID                    johnsbi01\n",
       "birthYear                        1961\n",
       "birthMonth                          9\n",
       "birthDay                           28\n",
       "debut             1884-06-27 00:00:00\n",
       "finalGame         1892-04-27 00:00:00\n",
       "birthDayDate      1961-09-28 00:00:00\n",
       "ageAtDebut      -28216 days +00:00:00\n",
       "ageAtFinal      -25355 days +00:00:00\n",
       "Name: 8107, dtype: object"
      ]
     },
     "execution_count": 7,
     "metadata": {},
     "output_type": "execute_result"
    }
   ],
   "source": [
    "# We start by finding the youngest player to play in the MLB, calling .idxmin on the \"ageAtDebut\" column\n",
    "baseball1_df.loc[baseball1_df['ageAtDebut'].idxmin()]"
   ]
  },
  {
   "cell_type": "markdown",
   "metadata": {},
   "source": [
    "This result is clearly due to an error in the data, as birthYear for this player is recorded as 1961 and his debut is recorded as 1884, i.e. 74 years before his birth!!! We will go ahead and remove\n",
    "this record and try again."
   ]
  },
  {
   "cell_type": "code",
   "execution_count": 8,
   "metadata": {
    "collapsed": false
   },
   "outputs": [
    {
     "data": {
      "text/plain": [
       "index                         12514\n",
       "playerID                  nuxhajo01\n",
       "birthYear                      1928\n",
       "birthMonth                        7\n",
       "birthDay                         30\n",
       "debut           1944-06-10 00:00:00\n",
       "finalGame       1966-10-02 00:00:00\n",
       "birthDayDate    1928-07-30 00:00:00\n",
       "ageAtDebut       5794 days 00:00:00\n",
       "ageAtFinal      13943 days 00:00:00\n",
       "Name: 12092, dtype: object"
      ]
     },
     "execution_count": 8,
     "metadata": {},
     "output_type": "execute_result"
    }
   ],
   "source": [
    "baseball1_df.drop(baseball1_df.index [8107], inplace=True)\n",
    "baseball1_df.loc[baseball1_df['ageAtDebut'].idxmin()]"
   ]
  },
  {
   "cell_type": "markdown",
   "metadata": {},
   "source": [
    "So youngest player to start in MLB is playerID \"nuxhajo01\" a further check in Wikipedia.org\n",
    "https://en.wikipedia.org/wiki/Joe_Nuxhall\n",
    "reveals that behind the ID is Joe Nuxhall who is recognized as youngest player to start in the MLB at 15 years 316 days\n"
   ]
  },
  {
   "cell_type": "code",
   "execution_count": 9,
   "metadata": {
    "collapsed": false
   },
   "outputs": [
    {
     "data": {
      "text/plain": [
       "index                         12904\n",
       "playerID                  paigesa01\n",
       "birthYear                      1906\n",
       "birthMonth                        7\n",
       "birthDay                          7\n",
       "debut           1948-07-09 00:00:00\n",
       "finalGame       1965-09-25 00:00:00\n",
       "birthDayDate    1906-07-07 00:00:00\n",
       "ageAtDebut      15343 days 00:00:00\n",
       "ageAtFinal      21630 days 00:00:00\n",
       "Name: 12469, dtype: object"
      ]
     },
     "execution_count": 9,
     "metadata": {},
     "output_type": "execute_result"
    }
   ],
   "source": [
    "# To answer oldest player we call .idxmax on the \"ageAtFinal\" column \n",
    "baseball1_df.loc[baseball1_df['ageAtFinal'].idxmax()]"
   ]
  },
  {
   "cell_type": "markdown",
   "metadata": {},
   "source": [
    "So oldest player to start in MLB is playerID \"paigesa01\" a further check in Wikipedia.org\n",
    "https://en.wikipedia.org/wiki/List_of_oldest_Major_League_Baseball_players\n",
    "reveals that behind the ID is Satchel Paige who is recognized as oldest player to play in the MLB at 59 years.\n"
   ]
  },
  {
   "cell_type": "code",
   "execution_count": 10,
   "metadata": {
    "collapsed": false
   },
   "outputs": [
    {
     "data": {
      "text/html": [
       "<div>\n",
       "<table border=\"1\" class=\"dataframe\">\n",
       "  <thead>\n",
       "    <tr style=\"text-align: right;\">\n",
       "      <th></th>\n",
       "      <th>birthYear</th>\n",
       "      <th>debutYear</th>\n",
       "      <th>finalGameYear</th>\n",
       "    </tr>\n",
       "  </thead>\n",
       "  <tbody>\n",
       "    <tr>\n",
       "      <th>0</th>\n",
       "      <td>1981.0</td>\n",
       "      <td>2004.0</td>\n",
       "      <td>2015.0</td>\n",
       "    </tr>\n",
       "    <tr>\n",
       "      <th>1</th>\n",
       "      <td>1934.0</td>\n",
       "      <td>1954.0</td>\n",
       "      <td>1976.0</td>\n",
       "    </tr>\n",
       "    <tr>\n",
       "      <th>2</th>\n",
       "      <td>1939.0</td>\n",
       "      <td>1962.0</td>\n",
       "      <td>1971.0</td>\n",
       "    </tr>\n",
       "    <tr>\n",
       "      <th>3</th>\n",
       "      <td>1954.0</td>\n",
       "      <td>1977.0</td>\n",
       "      <td>1990.0</td>\n",
       "    </tr>\n",
       "    <tr>\n",
       "      <th>4</th>\n",
       "      <td>1972.0</td>\n",
       "      <td>2001.0</td>\n",
       "      <td>2006.0</td>\n",
       "    </tr>\n",
       "  </tbody>\n",
       "</table>\n",
       "</div>"
      ],
      "text/plain": [
       "   birthYear  debutYear  finalGameYear\n",
       "0     1981.0     2004.0         2015.0\n",
       "1     1934.0     1954.0         1976.0\n",
       "2     1939.0     1962.0         1971.0\n",
       "3     1954.0     1977.0         1990.0\n",
       "4     1972.0     2001.0         2006.0"
      ]
     },
     "execution_count": 10,
     "metadata": {},
     "output_type": "execute_result"
    }
   ],
   "source": [
    "# In order to answer questions 2-4 in the Age Analysis we first create to new Dataframes, first one baseball2_df is a limited\n",
    "# copy of baseball_df where we extract only the years for birth, debut, finalGame. \n",
    "# The analysis of question 2-4 will be done on years only. This necessary as we do not have readily available data on when each\n",
    "# season started and which day it ended. This of course is a weakness in the analysis, but one which is reduced dúe to the high\n",
    "# number of records being analyzed.\n",
    "\n",
    "# First new dataframe \"baseball2_df\"\n",
    "\n",
    "baseball_df['debut'] = pd.to_datetime(baseball_df['debut'])\n",
    "baseball_df['debutYear'] = baseball_df['debut'].dt.year\n",
    "baseball_df['finalGame'] = pd.to_datetime(baseball_df['finalGame'])\n",
    "baseball_df['finalGameYear'] = baseball_df['finalGame'].dt.year\n",
    "\n",
    "baseball2_df = baseball_df[['birthYear','debutYear','finalGameYear']].dropna()\n",
    "\n",
    "baseball2_df['birthYear'] = pd.to_numeric(baseball2_df['birthYear'])\n",
    "baseball2_df['debutYear'] = pd.to_numeric(baseball2_df['debutYear'])\n",
    "baseball2_df['finalGameYear'] = pd.to_numeric(baseball2_df['finalGameYear'])\n",
    "\n",
    "baseball2_df.head()"
   ]
  },
  {
   "cell_type": "code",
   "execution_count": 11,
   "metadata": {
    "collapsed": false
   },
   "outputs": [
    {
     "data": {
      "text/html": [
       "<div>\n",
       "<table border=\"1\" class=\"dataframe\">\n",
       "  <thead>\n",
       "    <tr style=\"text-align: right;\">\n",
       "      <th></th>\n",
       "      <th>Total_Age</th>\n",
       "      <th>Count</th>\n",
       "      <th>Career_length</th>\n",
       "      <th>Count_career</th>\n",
       "    </tr>\n",
       "    <tr>\n",
       "      <th>Year</th>\n",
       "      <th></th>\n",
       "      <th></th>\n",
       "      <th></th>\n",
       "      <th></th>\n",
       "    </tr>\n",
       "  </thead>\n",
       "  <tbody>\n",
       "    <tr>\n",
       "      <th>1871.0</th>\n",
       "      <td>0</td>\n",
       "      <td>0</td>\n",
       "      <td>0.0</td>\n",
       "      <td>0.0</td>\n",
       "    </tr>\n",
       "    <tr>\n",
       "      <th>1872.0</th>\n",
       "      <td>0</td>\n",
       "      <td>0</td>\n",
       "      <td>0.0</td>\n",
       "      <td>0.0</td>\n",
       "    </tr>\n",
       "    <tr>\n",
       "      <th>1873.0</th>\n",
       "      <td>0</td>\n",
       "      <td>0</td>\n",
       "      <td>0.0</td>\n",
       "      <td>0.0</td>\n",
       "    </tr>\n",
       "    <tr>\n",
       "      <th>1874.0</th>\n",
       "      <td>0</td>\n",
       "      <td>0</td>\n",
       "      <td>0.0</td>\n",
       "      <td>0.0</td>\n",
       "    </tr>\n",
       "    <tr>\n",
       "      <th>1875.0</th>\n",
       "      <td>0</td>\n",
       "      <td>0</td>\n",
       "      <td>0.0</td>\n",
       "      <td>0.0</td>\n",
       "    </tr>\n",
       "  </tbody>\n",
       "</table>\n",
       "</div>"
      ],
      "text/plain": [
       "       Total_Age Count  Career_length  Count_career\n",
       "Year                                               \n",
       "1871.0         0     0            0.0           0.0\n",
       "1872.0         0     0            0.0           0.0\n",
       "1873.0         0     0            0.0           0.0\n",
       "1874.0         0     0            0.0           0.0\n",
       "1875.0         0     0            0.0           0.0"
      ]
     },
     "execution_count": 11,
     "metadata": {},
     "output_type": "execute_result"
    }
   ],
   "source": [
    "# Second new dataframe \"avgAge_df\" created empty with 1 line for each year of recorded data, and columns needed for storing the\n",
    "# data needed for calculating Average Age and Career Length per year. Following that we make a copy avgAge_df1 where index is\n",
    "# set equal to year\n",
    "\n",
    "avgAge_df = pd.DataFrame(columns=('Year', 'Total_Age', 'Count'))\n",
    "year = baseball2_df['debutYear'].min()\n",
    "count = 0\n",
    "while year < baseball2_df['finalGameYear'].max() + 1:\n",
    "    avgAge_df.loc[count,'Year'] = year\n",
    "    avgAge_df.loc[count,'Total_Age'] = 0\n",
    "    avgAge_df.loc[count,'Count'] = 0\n",
    "    \n",
    "    avgAge_df.loc[count,'Career_length'] = 0\n",
    "    avgAge_df.loc[count,'Count_career'] = 0\n",
    "    year +=1\n",
    "    count += 1\n",
    "\n",
    "avgAge_df1 = avgAge_df.set_index('Year')\n",
    "    \n",
    "    \n",
    "avgAge_df1.head()"
   ]
  },
  {
   "cell_type": "code",
   "execution_count": 12,
   "metadata": {
    "collapsed": false
   },
   "outputs": [
    {
     "data": {
      "text/html": [
       "<div>\n",
       "<table border=\"1\" class=\"dataframe\">\n",
       "  <thead>\n",
       "    <tr style=\"text-align: right;\">\n",
       "      <th></th>\n",
       "      <th>Total_Age</th>\n",
       "      <th>Count</th>\n",
       "      <th>Career_length</th>\n",
       "      <th>Count_career</th>\n",
       "    </tr>\n",
       "    <tr>\n",
       "      <th>Year</th>\n",
       "      <th></th>\n",
       "      <th></th>\n",
       "      <th></th>\n",
       "      <th></th>\n",
       "    </tr>\n",
       "  </thead>\n",
       "  <tbody>\n",
       "    <tr>\n",
       "      <th>1871.0</th>\n",
       "      <td>2723</td>\n",
       "      <td>112</td>\n",
       "      <td>0.0</td>\n",
       "      <td>0.0</td>\n",
       "    </tr>\n",
       "    <tr>\n",
       "      <th>1872.0</th>\n",
       "      <td>3450</td>\n",
       "      <td>141</td>\n",
       "      <td>0.0</td>\n",
       "      <td>0.0</td>\n",
       "    </tr>\n",
       "    <tr>\n",
       "      <th>1873.0</th>\n",
       "      <td>3169</td>\n",
       "      <td>127</td>\n",
       "      <td>0.0</td>\n",
       "      <td>0.0</td>\n",
       "    </tr>\n",
       "    <tr>\n",
       "      <th>1874.0</th>\n",
       "      <td>3101</td>\n",
       "      <td>122</td>\n",
       "      <td>0.0</td>\n",
       "      <td>0.0</td>\n",
       "    </tr>\n",
       "    <tr>\n",
       "      <th>1875.0</th>\n",
       "      <td>4406</td>\n",
       "      <td>177</td>\n",
       "      <td>0.0</td>\n",
       "      <td>0.0</td>\n",
       "    </tr>\n",
       "  </tbody>\n",
       "</table>\n",
       "</div>"
      ],
      "text/plain": [
       "       Total_Age Count  Career_length  Count_career\n",
       "Year                                               \n",
       "1871.0      2723   112            0.0           0.0\n",
       "1872.0      3450   141            0.0           0.0\n",
       "1873.0      3169   127            0.0           0.0\n",
       "1874.0      3101   122            0.0           0.0\n",
       "1875.0      4406   177            0.0           0.0"
      ]
     },
     "execution_count": 12,
     "metadata": {},
     "output_type": "execute_result"
    }
   ],
   "source": [
    "# In order to calculate the Average Age per year we loop through each line of the baseball2_df dataframe and loop this through\n",
    "# each line of the avgAge_df1 dataframe. This is needed as most lines in baseball2_df includes data for multiple years. Everytime\n",
    "# there is a hit in the avgAge_df1 the age is recorded in that year and counter is added 1.\n",
    "\n",
    "for x in range(len(baseball2_df.index)):\n",
    "        testa = baseball2_df.iloc[x]\n",
    "        for y in range(int(testa['finalGameYear'] - testa['debutYear'] + 1)):\n",
    "            avgAge_df1.ix[testa['finalGameYear'],'Total_Age'] += testa['finalGameYear'] - testa['birthYear']\n",
    "            avgAge_df1.ix[testa['finalGameYear'],'Count'] +=1\n",
    "            if testa['finalGameYear'] > 1871:  \n",
    "                testa['finalGameYear'] -= 1\n",
    "                \n",
    "avgAge_df1.head()"
   ]
  },
  {
   "cell_type": "code",
   "execution_count": 13,
   "metadata": {
    "collapsed": false
   },
   "outputs": [
    {
     "data": {
      "text/html": [
       "<div>\n",
       "<table border=\"1\" class=\"dataframe\">\n",
       "  <thead>\n",
       "    <tr style=\"text-align: right;\">\n",
       "      <th></th>\n",
       "      <th>Total_Age</th>\n",
       "      <th>Count</th>\n",
       "      <th>Career_length</th>\n",
       "      <th>Count_career</th>\n",
       "      <th>Avg_Age</th>\n",
       "    </tr>\n",
       "    <tr>\n",
       "      <th>Year</th>\n",
       "      <th></th>\n",
       "      <th></th>\n",
       "      <th></th>\n",
       "      <th></th>\n",
       "      <th></th>\n",
       "    </tr>\n",
       "  </thead>\n",
       "  <tbody>\n",
       "    <tr>\n",
       "      <th>1871.0</th>\n",
       "      <td>2723.0</td>\n",
       "      <td>112</td>\n",
       "      <td>0.0</td>\n",
       "      <td>0.0</td>\n",
       "      <td>24.312500</td>\n",
       "    </tr>\n",
       "    <tr>\n",
       "      <th>1872.0</th>\n",
       "      <td>3450.0</td>\n",
       "      <td>141</td>\n",
       "      <td>0.0</td>\n",
       "      <td>0.0</td>\n",
       "      <td>24.468085</td>\n",
       "    </tr>\n",
       "    <tr>\n",
       "      <th>1873.0</th>\n",
       "      <td>3169.0</td>\n",
       "      <td>127</td>\n",
       "      <td>0.0</td>\n",
       "      <td>0.0</td>\n",
       "      <td>24.952756</td>\n",
       "    </tr>\n",
       "    <tr>\n",
       "      <th>1874.0</th>\n",
       "      <td>3101.0</td>\n",
       "      <td>122</td>\n",
       "      <td>0.0</td>\n",
       "      <td>0.0</td>\n",
       "      <td>25.418033</td>\n",
       "    </tr>\n",
       "    <tr>\n",
       "      <th>1875.0</th>\n",
       "      <td>4406.0</td>\n",
       "      <td>177</td>\n",
       "      <td>0.0</td>\n",
       "      <td>0.0</td>\n",
       "      <td>24.892655</td>\n",
       "    </tr>\n",
       "  </tbody>\n",
       "</table>\n",
       "</div>"
      ],
      "text/plain": [
       "        Total_Age  Count  Career_length  Count_career    Avg_Age\n",
       "Year                                                            \n",
       "1871.0     2723.0    112            0.0           0.0  24.312500\n",
       "1872.0     3450.0    141            0.0           0.0  24.468085\n",
       "1873.0     3169.0    127            0.0           0.0  24.952756\n",
       "1874.0     3101.0    122            0.0           0.0  25.418033\n",
       "1875.0     4406.0    177            0.0           0.0  24.892655"
      ]
     },
     "execution_count": 13,
     "metadata": {},
     "output_type": "execute_result"
    }
   ],
   "source": [
    "# Now that we have populated \"Total_Age\" and \"Count\" for each year we can calculate average dividing the two and get the answer\n",
    "# to question 2\n",
    "\n",
    "avgAge_df1['Total_Age'] = pd.to_numeric(avgAge_df1['Total_Age'])\n",
    "avgAge_df1['Count'] = pd.to_numeric(avgAge_df1['Count'])\n",
    "avgAge_df1['Avg_Age'] = avgAge_df1['Total_Age'] / avgAge_df1['Count']\n",
    "avgAge_df1.head()"
   ]
  },
  {
   "cell_type": "code",
   "execution_count": 14,
   "metadata": {
    "collapsed": false
   },
   "outputs": [
    {
     "data": {
      "image/png": "[encoded data removed]",
      "text/plain": [
       "<matplotlib.figure.Figure at 0xb940c50>"
      ]
     },
     "metadata": {},
     "output_type": "display_data"
    }
   ],
   "source": [
    "# Let us see that in a line chart instead as this may show a more clear picture.\n",
    "\n",
    "sns.set_style(\"darkgrid\")\n",
    "plt.plot(avgAge_df1['Avg_Age'])\n",
    "plt.suptitle('Average Age all Players per MLB Season', fontsize=14, fontweight='bold')\n",
    "plt.xlabel('Year', fontsize=11, fontweight='bold')\n",
    "plt.ylabel('Average Age', fontsize=11, fontweight='bold')\n",
    "plt.show()\n"
   ]
  },
  {
   "cell_type": "markdown",
   "metadata": {},
   "source": [
    "From this line chart we can make the following observations:\n",
    "- Minimun average age was in the first year. from the Dataframe above we can see that this is 1871 and avg age was 24,3 years\n",
    "- Average age has been increasing over time, but there are some peaks and valleys which would need more extensive analysis and\n",
    "data in order to be correctly understood.\n",
    "- Maximum average age is somewhere between 1940 and 1960, we will call .idxmax on \"Avg_Age\" column to find exact year and avg. age"
   ]
  },
  {
   "cell_type": "code",
   "execution_count": 15,
   "metadata": {
    "collapsed": false
   },
   "outputs": [
    {
     "data": {
      "text/plain": [
       "Total_Age        24901.000000\n",
       "Count              842.000000\n",
       "Career_length        0.000000\n",
       "Count_career         0.000000\n",
       "Avg_Age             29.573634\n",
       "Name: 1945.0, dtype: float64"
      ]
     },
     "execution_count": 15,
     "metadata": {},
     "output_type": "execute_result"
    }
   ],
   "source": [
    "avgAge_df1.loc[avgAge_df1['Avg_Age'].idxmax()]"
   ]
  },
  {
   "cell_type": "markdown",
   "metadata": {},
   "source": [
    "This leads us to the answer on question 3:\n",
    "- 1945 had the highest average age of ballplayers at 29,6 years.\n",
    "A tentative explanation for this, is that most younger ballplayers were drafted for World War II and consequently avg.age increased.\n",
    "This of course would need more extensive analysis in order to be a solid reasoning."
   ]
  },
  {
   "cell_type": "code",
   "execution_count": 16,
   "metadata": {
    "collapsed": false
   },
   "outputs": [
    {
     "data": {
      "text/html": [
       "<div>\n",
       "<table border=\"1\" class=\"dataframe\">\n",
       "  <thead>\n",
       "    <tr style=\"text-align: right;\">\n",
       "      <th></th>\n",
       "      <th>Total_Age</th>\n",
       "      <th>Count</th>\n",
       "      <th>Career_length</th>\n",
       "      <th>Count_career</th>\n",
       "      <th>Avg_Age</th>\n",
       "    </tr>\n",
       "    <tr>\n",
       "      <th>Year</th>\n",
       "      <th></th>\n",
       "      <th></th>\n",
       "      <th></th>\n",
       "      <th></th>\n",
       "      <th></th>\n",
       "    </tr>\n",
       "  </thead>\n",
       "  <tbody>\n",
       "    <tr>\n",
       "      <th>1871.0</th>\n",
       "      <td>2723.0</td>\n",
       "      <td>112</td>\n",
       "      <td>112.0</td>\n",
       "      <td>112.0</td>\n",
       "      <td>24.312500</td>\n",
       "    </tr>\n",
       "    <tr>\n",
       "      <th>1872.0</th>\n",
       "      <td>3450.0</td>\n",
       "      <td>141</td>\n",
       "      <td>228.0</td>\n",
       "      <td>141.0</td>\n",
       "      <td>24.468085</td>\n",
       "    </tr>\n",
       "    <tr>\n",
       "      <th>1873.0</th>\n",
       "      <td>3169.0</td>\n",
       "      <td>127</td>\n",
       "      <td>302.0</td>\n",
       "      <td>127.0</td>\n",
       "      <td>24.952756</td>\n",
       "    </tr>\n",
       "    <tr>\n",
       "      <th>1874.0</th>\n",
       "      <td>3101.0</td>\n",
       "      <td>122</td>\n",
       "      <td>385.0</td>\n",
       "      <td>122.0</td>\n",
       "      <td>25.418033</td>\n",
       "    </tr>\n",
       "    <tr>\n",
       "      <th>1875.0</th>\n",
       "      <td>4406.0</td>\n",
       "      <td>177</td>\n",
       "      <td>534.0</td>\n",
       "      <td>177.0</td>\n",
       "      <td>24.892655</td>\n",
       "    </tr>\n",
       "  </tbody>\n",
       "</table>\n",
       "</div>"
      ],
      "text/plain": [
       "        Total_Age  Count  Career_length  Count_career    Avg_Age\n",
       "Year                                                            \n",
       "1871.0     2723.0    112          112.0         112.0  24.312500\n",
       "1872.0     3450.0    141          228.0         141.0  24.468085\n",
       "1873.0     3169.0    127          302.0         127.0  24.952756\n",
       "1874.0     3101.0    122          385.0         122.0  25.418033\n",
       "1875.0     4406.0    177          534.0         177.0  24.892655"
      ]
     },
     "execution_count": 16,
     "metadata": {},
     "output_type": "execute_result"
    }
   ],
   "source": [
    "# One reason for the increasing Average Age over time could be that career length is increasing due to for example: \n",
    "# More money, better training and injury treatment, players staying longer in school. All of this would need more extensive \n",
    "# analysis and data, but we can calculate if career length is increasing and what the calculated Coorelation is vs. Avg. Age. \n",
    "\n",
    "# First we need a new dataframe baseball3_df, which is equal to baseball2_df but that particular dataframe cannot be re-used for\n",
    "# this task as it was changed during the avg. age calculation in box [12].\n",
    "\n",
    "# As was the case for the Average Age calculation we take baseball3_df dataframe 1 line at a time and loop through avgAge_df1\n",
    "# One year at a time for possible match. Everytime there is a hit dataframe \"Career length\" is updated with career length in \n",
    "# that year and career count increased by 1\n",
    "\n",
    "baseball3_df = baseball_df[['birthYear','debutYear','finalGameYear']].dropna()\n",
    "\n",
    "for x in range(len(baseball3_df.index)):\n",
    "        testa = baseball3_df.iloc[x]\n",
    "        for y in avgAge_df1.index.get_values():\n",
    "            if y >= testa['debutYear'] and y <= testa['finalGameYear']:\n",
    "                avgAge_df1.ix[y,'Career_length'] += ((y - testa['debutYear']) + 1)\n",
    "                avgAge_df1.ix[y,'Count_career'] +=1\n",
    "                \n",
    "avgAge_df1.head()"
   ]
  },
  {
   "cell_type": "code",
   "execution_count": 17,
   "metadata": {
    "collapsed": false
   },
   "outputs": [
    {
     "data": {
      "text/html": [
       "<div>\n",
       "<table border=\"1\" class=\"dataframe\">\n",
       "  <thead>\n",
       "    <tr style=\"text-align: right;\">\n",
       "      <th></th>\n",
       "      <th>Total_Age</th>\n",
       "      <th>Count</th>\n",
       "      <th>Career_length</th>\n",
       "      <th>Count_career</th>\n",
       "      <th>Avg_Age</th>\n",
       "      <th>Avg_Career</th>\n",
       "    </tr>\n",
       "    <tr>\n",
       "      <th>Year</th>\n",
       "      <th></th>\n",
       "      <th></th>\n",
       "      <th></th>\n",
       "      <th></th>\n",
       "      <th></th>\n",
       "      <th></th>\n",
       "    </tr>\n",
       "  </thead>\n",
       "  <tbody>\n",
       "    <tr>\n",
       "      <th>1871.0</th>\n",
       "      <td>2723.0</td>\n",
       "      <td>112</td>\n",
       "      <td>112.0</td>\n",
       "      <td>112.0</td>\n",
       "      <td>24.312500</td>\n",
       "      <td>1.000000</td>\n",
       "    </tr>\n",
       "    <tr>\n",
       "      <th>1872.0</th>\n",
       "      <td>3450.0</td>\n",
       "      <td>141</td>\n",
       "      <td>228.0</td>\n",
       "      <td>141.0</td>\n",
       "      <td>24.468085</td>\n",
       "      <td>1.617021</td>\n",
       "    </tr>\n",
       "    <tr>\n",
       "      <th>1873.0</th>\n",
       "      <td>3169.0</td>\n",
       "      <td>127</td>\n",
       "      <td>302.0</td>\n",
       "      <td>127.0</td>\n",
       "      <td>24.952756</td>\n",
       "      <td>2.377953</td>\n",
       "    </tr>\n",
       "    <tr>\n",
       "      <th>1874.0</th>\n",
       "      <td>3101.0</td>\n",
       "      <td>122</td>\n",
       "      <td>385.0</td>\n",
       "      <td>122.0</td>\n",
       "      <td>25.418033</td>\n",
       "      <td>3.155738</td>\n",
       "    </tr>\n",
       "    <tr>\n",
       "      <th>1875.0</th>\n",
       "      <td>4406.0</td>\n",
       "      <td>177</td>\n",
       "      <td>534.0</td>\n",
       "      <td>177.0</td>\n",
       "      <td>24.892655</td>\n",
       "      <td>3.016949</td>\n",
       "    </tr>\n",
       "  </tbody>\n",
       "</table>\n",
       "</div>"
      ],
      "text/plain": [
       "        Total_Age  Count  Career_length  Count_career    Avg_Age  Avg_Career\n",
       "Year                                                                        \n",
       "1871.0     2723.0    112          112.0         112.0  24.312500    1.000000\n",
       "1872.0     3450.0    141          228.0         141.0  24.468085    1.617021\n",
       "1873.0     3169.0    127          302.0         127.0  24.952756    2.377953\n",
       "1874.0     3101.0    122          385.0         122.0  25.418033    3.155738\n",
       "1875.0     4406.0    177          534.0         177.0  24.892655    3.016949"
      ]
     },
     "execution_count": 17,
     "metadata": {},
     "output_type": "execute_result"
    }
   ],
   "source": [
    "# Following this we can calculate Career length per season \n",
    "\n",
    "avgAge_df1['Avg_Career'] = avgAge_df1['Career_length'] / avgAge_df1['Count_career']\n",
    "\n",
    "avgAge_df1.head()"
   ]
  },
  {
   "cell_type": "code",
   "execution_count": 18,
   "metadata": {
    "collapsed": false
   },
   "outputs": [
    {
     "data": {
      "image/png": "[encoded data removed]",
      "text/plain": [
       "<matplotlib.figure.Figure at 0x9da2588>"
      ]
     },
     "metadata": {},
     "output_type": "display_data"
    }
   ],
   "source": [
    "# And check a line chart to view if this also has an increasing trend\n",
    "\n",
    "sns.set_style(\"darkgrid\")\n",
    "plt.plot(avgAge_df1['Avg_Career'])\n",
    "plt.suptitle('Average Career Length per MLB Season', fontsize=14, fontweight='bold')\n",
    "plt.xlabel('Year', fontsize=11, fontweight='bold')\n",
    "plt.ylabel('Average Career Length', fontsize=11, fontweight='bold')\n",
    "plt.show()"
   ]
  },
  {
   "cell_type": "markdown",
   "metadata": {
    "collapsed": false
   },
   "source": [
    "As was the case for Average Age, carreer length is definately increasing over time. Not surprising of course in the first years\n",
    "and again there are peaks and valleys which could need more extensive analysis and further data."
   ]
  },
  {
   "cell_type": "code",
   "execution_count": 19,
   "metadata": {
    "collapsed": false
   },
   "outputs": [
    {
     "data": {
      "image/png": "[encoded data removed]",
      "text/plain": [
       "<matplotlib.figure.Figure at 0xc20fb70>"
      ]
     },
     "metadata": {},
     "output_type": "display_data"
    }
   ],
   "source": [
    "# In order to analyze a possible relationship between Average Age and Career Length we start by looking at a scatterplot\n",
    "\n",
    "sns.set_style(\"darkgrid\")\n",
    "plt.scatter(x=\"Avg_Age\", y=\"Avg_Career\", data=avgAge_df1)\n",
    "plt.suptitle('Scatterplot Avg. Age vs. Avg. Career Length MLB 1871 - 2015', fontsize=14, fontweight='bold')\n",
    "plt.xlabel('Average Age', fontsize=11, fontweight='bold')\n",
    "plt.ylabel('Average Career Length', fontsize=11, fontweight='bold')\n",
    "plt.show()"
   ]
  },
  {
   "cell_type": "code",
   "execution_count": 20,
   "metadata": {
    "collapsed": false
   },
   "outputs": [
    {
     "data": {
      "text/html": [
       "<div>\n",
       "<table border=\"1\" class=\"dataframe\">\n",
       "  <thead>\n",
       "    <tr style=\"text-align: right;\">\n",
       "      <th></th>\n",
       "      <th>Total_Age</th>\n",
       "      <th>Count</th>\n",
       "      <th>Career_length</th>\n",
       "      <th>Count_career</th>\n",
       "      <th>Avg_Age</th>\n",
       "      <th>Avg_Career</th>\n",
       "    </tr>\n",
       "  </thead>\n",
       "  <tbody>\n",
       "    <tr>\n",
       "      <th>Total_Age</th>\n",
       "      <td>1.000000</td>\n",
       "      <td>0.998840</td>\n",
       "      <td>0.991690</td>\n",
       "      <td>0.998840</td>\n",
       "      <td>0.670732</td>\n",
       "      <td>0.511400</td>\n",
       "    </tr>\n",
       "    <tr>\n",
       "      <th>Count</th>\n",
       "      <td>0.998840</td>\n",
       "      <td>1.000000</td>\n",
       "      <td>0.988364</td>\n",
       "      <td>1.000000</td>\n",
       "      <td>0.646252</td>\n",
       "      <td>0.498447</td>\n",
       "    </tr>\n",
       "    <tr>\n",
       "      <th>Career_length</th>\n",
       "      <td>0.991690</td>\n",
       "      <td>0.988364</td>\n",
       "      <td>1.000000</td>\n",
       "      <td>0.988364</td>\n",
       "      <td>0.709883</td>\n",
       "      <td>0.586188</td>\n",
       "    </tr>\n",
       "    <tr>\n",
       "      <th>Count_career</th>\n",
       "      <td>0.998840</td>\n",
       "      <td>1.000000</td>\n",
       "      <td>0.988364</td>\n",
       "      <td>1.000000</td>\n",
       "      <td>0.646252</td>\n",
       "      <td>0.498447</td>\n",
       "    </tr>\n",
       "    <tr>\n",
       "      <th>Avg_Age</th>\n",
       "      <td>0.670732</td>\n",
       "      <td>0.646252</td>\n",
       "      <td>0.709883</td>\n",
       "      <td>0.646252</td>\n",
       "      <td>1.000000</td>\n",
       "      <td>0.843482</td>\n",
       "    </tr>\n",
       "    <tr>\n",
       "      <th>Avg_Career</th>\n",
       "      <td>0.511400</td>\n",
       "      <td>0.498447</td>\n",
       "      <td>0.586188</td>\n",
       "      <td>0.498447</td>\n",
       "      <td>0.843482</td>\n",
       "      <td>1.000000</td>\n",
       "    </tr>\n",
       "  </tbody>\n",
       "</table>\n",
       "</div>"
      ],
      "text/plain": [
       "               Total_Age     Count  Career_length  Count_career   Avg_Age  \\\n",
       "Total_Age       1.000000  0.998840       0.991690      0.998840  0.670732   \n",
       "Count           0.998840  1.000000       0.988364      1.000000  0.646252   \n",
       "Career_length   0.991690  0.988364       1.000000      0.988364  0.709883   \n",
       "Count_career    0.998840  1.000000       0.988364      1.000000  0.646252   \n",
       "Avg_Age         0.670732  0.646252       0.709883      0.646252  1.000000   \n",
       "Avg_Career      0.511400  0.498447       0.586188      0.498447  0.843482   \n",
       "\n",
       "               Avg_Career  \n",
       "Total_Age        0.511400  \n",
       "Count            0.498447  \n",
       "Career_length    0.586188  \n",
       "Count_career     0.498447  \n",
       "Avg_Age          0.843482  \n",
       "Avg_Career       1.000000  "
      ]
     },
     "execution_count": 20,
     "metadata": {},
     "output_type": "execute_result"
    }
   ],
   "source": [
    "# Chart above indicates a possible positive relationsship, we will check further with a calculated correlation \n",
    "# calling .corr on the dataframe. \n",
    "\n",
    "avgAge_df1.corr(method='pearson')"
   ]
  },
  {
   "cell_type": "markdown",
   "metadata": {},
   "source": [
    "Answer to question 4 is therefore that there seems to be strong relationship between Average Age and Career length = 0.84. But in order\n",
    "to be more exact further statistical tests should be performed."
   ]
  },
  {
   "cell_type": "markdown",
   "metadata": {},
   "source": [
    "## Performance of WC team in Post season"
   ]
  },
  {
   "cell_type": "markdown",
   "metadata": {},
   "source": [
    "From Wikipedia we can learn that the Wild Card system was introduced into the 1994 season, but due to player strike the \n",
    "Wild Card was not implemented until 1995. Until 2012 1 team from each league was awarded a Wild card and played against\n",
    "a division winner for a place in the league championship series. In 2012 this changed to 2 Wild Card teams that played each\n",
    "other to determine which team would advance to the division series.\n",
    "\n",
    "This analysis will identify the Wild Card teams per season and award points for yearly performance according to the following system:\n",
    "- Advancing to Division Series 1 point (this entails that all WC teams before 2012 are automatically awarded 1 point)\n",
    "- Advancing to League Championship 1 point\n",
    "- Advancing to World Series 1 point\n",
    "- Winning World Series 1 point\n",
    "\n",
    "So if a WC team scores 4 points in a single post season they won the World Series."
   ]
  },
  {
   "cell_type": "code",
   "execution_count": 21,
   "metadata": {
    "collapsed": false
   },
   "outputs": [
    {
     "data": {
      "text/html": [
       "<div>\n",
       "<table border=\"1\" class=\"dataframe\">\n",
       "  <thead>\n",
       "    <tr style=\"text-align: right;\">\n",
       "      <th></th>\n",
       "      <th>yearID</th>\n",
       "      <th>round</th>\n",
       "      <th>teamIDwinner</th>\n",
       "      <th>lgIDwinner</th>\n",
       "      <th>teamIDloser</th>\n",
       "      <th>lgIDloser</th>\n",
       "      <th>wins</th>\n",
       "      <th>losses</th>\n",
       "      <th>ties</th>\n",
       "    </tr>\n",
       "  </thead>\n",
       "  <tbody>\n",
       "    <tr>\n",
       "      <th>302</th>\n",
       "      <td>2015</td>\n",
       "      <td>NLWC</td>\n",
       "      <td>CHN</td>\n",
       "      <td>NL</td>\n",
       "      <td>PIT</td>\n",
       "      <td>NL</td>\n",
       "      <td>1</td>\n",
       "      <td>0</td>\n",
       "      <td>0</td>\n",
       "    </tr>\n",
       "    <tr>\n",
       "      <th>303</th>\n",
       "      <td>2015</td>\n",
       "      <td>NLCS</td>\n",
       "      <td>NYN</td>\n",
       "      <td>NL</td>\n",
       "      <td>CHN</td>\n",
       "      <td>NL</td>\n",
       "      <td>4</td>\n",
       "      <td>0</td>\n",
       "      <td>0</td>\n",
       "    </tr>\n",
       "    <tr>\n",
       "      <th>304</th>\n",
       "      <td>2015</td>\n",
       "      <td>NLDS1</td>\n",
       "      <td>CHN</td>\n",
       "      <td>NL</td>\n",
       "      <td>SLN</td>\n",
       "      <td>NL</td>\n",
       "      <td>3</td>\n",
       "      <td>1</td>\n",
       "      <td>0</td>\n",
       "    </tr>\n",
       "    <tr>\n",
       "      <th>305</th>\n",
       "      <td>2015</td>\n",
       "      <td>NLDS2</td>\n",
       "      <td>NYN</td>\n",
       "      <td>NL</td>\n",
       "      <td>LAN</td>\n",
       "      <td>NL</td>\n",
       "      <td>3</td>\n",
       "      <td>2</td>\n",
       "      <td>0</td>\n",
       "    </tr>\n",
       "    <tr>\n",
       "      <th>306</th>\n",
       "      <td>2015</td>\n",
       "      <td>WS</td>\n",
       "      <td>KCA</td>\n",
       "      <td>AL</td>\n",
       "      <td>NYN</td>\n",
       "      <td>NL</td>\n",
       "      <td>4</td>\n",
       "      <td>1</td>\n",
       "      <td>0</td>\n",
       "    </tr>\n",
       "  </tbody>\n",
       "</table>\n",
       "</div>"
      ],
      "text/plain": [
       "     yearID  round teamIDwinner lgIDwinner teamIDloser lgIDloser  wins  \\\n",
       "302    2015   NLWC          CHN         NL         PIT        NL     1   \n",
       "303    2015   NLCS          NYN         NL         CHN        NL     4   \n",
       "304    2015  NLDS1          CHN         NL         SLN        NL     3   \n",
       "305    2015  NLDS2          NYN         NL         LAN        NL     3   \n",
       "306    2015     WS          KCA         AL         NYN        NL     4   \n",
       "\n",
       "     losses  ties  \n",
       "302       0     0  \n",
       "303       0     0  \n",
       "304       1     0  \n",
       "305       2     0  \n",
       "306       1     0  "
      ]
     },
     "execution_count": 21,
     "metadata": {},
     "output_type": "execute_result"
    }
   ],
   "source": [
    "# In order to analyze the Performance of Wild Card teams in post season we first have to load the \"SeriesPost.csv\" as dataframe\n",
    "# will be loaded as seriesPost_df\n",
    "\n",
    "seriesPost_df = pd.read_csv('SeriesPost.csv')\n",
    "\n",
    "# Let's see a preview of the data\n",
    "seriesPost_df.tail()"
   ]
  },
  {
   "cell_type": "code",
   "execution_count": 22,
   "metadata": {
    "collapsed": false
   },
   "outputs": [
    {
     "data": {
      "text/html": [
       "<div>\n",
       "<table border=\"1\" class=\"dataframe\">\n",
       "  <thead>\n",
       "    <tr style=\"text-align: right;\">\n",
       "      <th></th>\n",
       "      <th>yearID</th>\n",
       "      <th>round</th>\n",
       "      <th>teamIDwinner</th>\n",
       "      <th>lgIDwinner</th>\n",
       "      <th>teamIDloser</th>\n",
       "      <th>lgIDloser</th>\n",
       "      <th>wins</th>\n",
       "      <th>losses</th>\n",
       "      <th>ties</th>\n",
       "      <th>name</th>\n",
       "    </tr>\n",
       "  </thead>\n",
       "  <tbody>\n",
       "    <tr>\n",
       "      <th>298</th>\n",
       "      <td>2015</td>\n",
       "      <td>ALDS2</td>\n",
       "      <td>TOR</td>\n",
       "      <td>AL</td>\n",
       "      <td>TEX</td>\n",
       "      <td>AL</td>\n",
       "      <td>3</td>\n",
       "      <td>2</td>\n",
       "      <td>0</td>\n",
       "      <td>Toronto Blue Jays</td>\n",
       "    </tr>\n",
       "    <tr>\n",
       "      <th>299</th>\n",
       "      <td>2015</td>\n",
       "      <td>NLWC</td>\n",
       "      <td>CHN</td>\n",
       "      <td>NL</td>\n",
       "      <td>PIT</td>\n",
       "      <td>NL</td>\n",
       "      <td>1</td>\n",
       "      <td>0</td>\n",
       "      <td>0</td>\n",
       "      <td>Chicago Cubs</td>\n",
       "    </tr>\n",
       "    <tr>\n",
       "      <th>300</th>\n",
       "      <td>2015</td>\n",
       "      <td>NLDS1</td>\n",
       "      <td>CHN</td>\n",
       "      <td>NL</td>\n",
       "      <td>SLN</td>\n",
       "      <td>NL</td>\n",
       "      <td>3</td>\n",
       "      <td>1</td>\n",
       "      <td>0</td>\n",
       "      <td>Chicago Cubs</td>\n",
       "    </tr>\n",
       "    <tr>\n",
       "      <th>301</th>\n",
       "      <td>2015</td>\n",
       "      <td>NLCS</td>\n",
       "      <td>NYN</td>\n",
       "      <td>NL</td>\n",
       "      <td>CHN</td>\n",
       "      <td>NL</td>\n",
       "      <td>4</td>\n",
       "      <td>0</td>\n",
       "      <td>0</td>\n",
       "      <td>New York Mets</td>\n",
       "    </tr>\n",
       "    <tr>\n",
       "      <th>302</th>\n",
       "      <td>2015</td>\n",
       "      <td>NLDS2</td>\n",
       "      <td>NYN</td>\n",
       "      <td>NL</td>\n",
       "      <td>LAN</td>\n",
       "      <td>NL</td>\n",
       "      <td>3</td>\n",
       "      <td>2</td>\n",
       "      <td>0</td>\n",
       "      <td>New York Mets</td>\n",
       "    </tr>\n",
       "  </tbody>\n",
       "</table>\n",
       "</div>"
      ],
      "text/plain": [
       "     yearID  round teamIDwinner lgIDwinner teamIDloser lgIDloser  wins  \\\n",
       "298    2015  ALDS2          TOR         AL         TEX        AL     3   \n",
       "299    2015   NLWC          CHN         NL         PIT        NL     1   \n",
       "300    2015  NLDS1          CHN         NL         SLN        NL     3   \n",
       "301    2015   NLCS          NYN         NL         CHN        NL     4   \n",
       "302    2015  NLDS2          NYN         NL         LAN        NL     3   \n",
       "\n",
       "     losses  ties               name  \n",
       "298       2     0  Toronto Blue Jays  \n",
       "299       0     0       Chicago Cubs  \n",
       "300       1     0       Chicago Cubs  \n",
       "301       0     0      New York Mets  \n",
       "302       2     0      New York Mets  "
      ]
     },
     "execution_count": 22,
     "metadata": {},
     "output_type": "execute_result"
    }
   ],
   "source": [
    "# Before we move further we would like the full name of teams, so we load Teams.csv to new Dataframe \"teams_df\" \n",
    "\n",
    "teams_df = pd.read_csv('Teams.csv')\n",
    "\n",
    "# In this new dataframe we identify the column containing full team name and rename this to same column name in seriesPost_df\n",
    "\n",
    "teams_df.rename(index=str, columns={\"teamID\": \"teamIDwinner\"}, inplace = True)\n",
    "\n",
    "# We copy into new dataframe \"teams1_df\" only the columns we need, and further copy into teams2_df dropping duplicates\n",
    "# as teams can have changed name but kept same abbreviation. \n",
    "\n",
    "teams1_df = teams_df[['teamIDwinner','name','yearID']]\n",
    "\n",
    "teams2_df = teams1_df.drop_duplicates()\n",
    "\n",
    "# and finally we merge the seriesPost_df and teams2_df into new dataframe seriesPost1_df\n",
    "\n",
    "seriesPost1_df = seriesPost_df.merge(teams2_df)\n",
    "\n",
    "\n",
    "seriesPost1_df.tail()"
   ]
  },
  {
   "cell_type": "code",
   "execution_count": 23,
   "metadata": {
    "collapsed": false
   },
   "outputs": [
    {
     "name": "stderr",
     "output_type": "stream",
     "text": [
      "C:\\Users\\Peter\\Anaconda\\lib\\site-packages\\ipykernel\\__main__.py:8: SettingWithCopyWarning: \n",
      "A value is trying to be set on a copy of a slice from a DataFrame.\n",
      "Try using .loc[row_indexer,col_indexer] = value instead\n",
      "\n",
      "See the caveats in the documentation: http://pandas.pydata.org/pandas-docs/stable/indexing.html#indexing-view-versus-copy\n",
      "C:\\Users\\Peter\\Anaconda\\lib\\site-packages\\pandas\\core\\indexing.py:461: SettingWithCopyWarning: \n",
      "A value is trying to be set on a copy of a slice from a DataFrame.\n",
      "Try using .loc[row_indexer,col_indexer] = value instead\n",
      "\n",
      "See the caveats in the documentation: http://pandas.pydata.org/pandas-docs/stable/indexing.html#indexing-view-versus-copy\n",
      "  self.obj[item] = s\n"
     ]
    },
    {
     "data": {
      "text/html": [
       "<div>\n",
       "<table border=\"1\" class=\"dataframe\">\n",
       "  <thead>\n",
       "    <tr style=\"text-align: right;\">\n",
       "      <th></th>\n",
       "      <th>index</th>\n",
       "      <th>name</th>\n",
       "      <th>yearID</th>\n",
       "      <th>lgID</th>\n",
       "      <th>divID</th>\n",
       "      <th>WCWin</th>\n",
       "      <th>Score</th>\n",
       "    </tr>\n",
       "  </thead>\n",
       "  <tbody>\n",
       "    <tr>\n",
       "      <th>0</th>\n",
       "      <td>2189</td>\n",
       "      <td>Colorado Rockies</td>\n",
       "      <td>1995</td>\n",
       "      <td>NL</td>\n",
       "      <td>W</td>\n",
       "      <td>Y</td>\n",
       "      <td>1</td>\n",
       "    </tr>\n",
       "    <tr>\n",
       "      <th>1</th>\n",
       "      <td>2198</td>\n",
       "      <td>New York Yankees</td>\n",
       "      <td>1995</td>\n",
       "      <td>AL</td>\n",
       "      <td>E</td>\n",
       "      <td>Y</td>\n",
       "      <td>1</td>\n",
       "    </tr>\n",
       "    <tr>\n",
       "      <th>2</th>\n",
       "      <td>2210</td>\n",
       "      <td>Baltimore Orioles</td>\n",
       "      <td>1996</td>\n",
       "      <td>AL</td>\n",
       "      <td>E</td>\n",
       "      <td>Y</td>\n",
       "      <td>2</td>\n",
       "    </tr>\n",
       "    <tr>\n",
       "      <th>3</th>\n",
       "      <td>2222</td>\n",
       "      <td>Los Angeles Dodgers</td>\n",
       "      <td>1996</td>\n",
       "      <td>NL</td>\n",
       "      <td>W</td>\n",
       "      <td>Y</td>\n",
       "      <td>1</td>\n",
       "    </tr>\n",
       "    <tr>\n",
       "      <th>4</th>\n",
       "      <td>2247</td>\n",
       "      <td>Florida Marlins</td>\n",
       "      <td>1997</td>\n",
       "      <td>NL</td>\n",
       "      <td>E</td>\n",
       "      <td>Y</td>\n",
       "      <td>4</td>\n",
       "    </tr>\n",
       "  </tbody>\n",
       "</table>\n",
       "</div>"
      ],
      "text/plain": [
       "  index                 name  yearID lgID divID WCWin  Score\n",
       "0  2189     Colorado Rockies    1995   NL     W     Y      1\n",
       "1  2198     New York Yankees    1995   AL     E     Y      1\n",
       "2  2210    Baltimore Orioles    1996   AL     E     Y      2\n",
       "3  2222  Los Angeles Dodgers    1996   NL     W     Y      1\n",
       "4  2247      Florida Marlins    1997   NL     E     Y      4"
      ]
     },
     "execution_count": 23,
     "metadata": {},
     "output_type": "execute_result"
    }
   ],
   "source": [
    "# In order to calculate performance per WC team per year , we first create new dataframe populating with the columns needed \n",
    "# from teams_df adding a column for \"score\" and limiting to only teams which have a \"Y\" in WCWin.\n",
    "# Following this we loop through seriesPost1_df and each time we can match seriesPost win result with wcPerf1_df, the team is \n",
    "# added +1 point for that season. Finally all WC teams before 2012 are added +1 Point as they qualified 1 round further than post\n",
    "# teams earning WC from season 2012 onwards.\n",
    "\n",
    "wcPerf2_df = teams_df[['name','yearID','lgID','divID','WCWin']]\n",
    "wcPerf2_df['Score'] = 0\n",
    "wcPerf1_df = wcPerf2_df[wcPerf2_df.WCWin == \"Y\"]\n",
    "wcPerf1_df.reset_index(inplace=True)\n",
    "\n",
    "\n",
    "for x in range(len(seriesPost1_df.index)):\n",
    "    testa = seriesPost1_df.iloc[x]\n",
    "    for y in range(len(wcPerf1_df.index)):\n",
    "        testb = wcPerf1_df.iloc[y]\n",
    "        if testa['name'] == testb['name'] and testa['yearID'] == testb['yearID']:\n",
    "            wcPerf1_df.loc[y,'Score'] += 1\n",
    "        \n",
    "            \n",
    "for x in range(len(wcPerf1_df.index)):\n",
    "    testa = wcPerf1_df.iloc[x]\n",
    "    if testa['yearID'] < 2012:\n",
    "        wcPerf1_df.loc[x,'Score'] += 1\n",
    "            \n",
    "\n",
    "\n",
    "wcPerf1_df.head()\n",
    "\n"
   ]
  },
  {
   "cell_type": "code",
   "execution_count": 24,
   "metadata": {
    "collapsed": false,
    "scrolled": true
   },
   "outputs": [
    {
     "data": {
      "text/plain": [
       "<seaborn.axisgrid.FacetGrid at 0xc433358>"
      ]
     },
     "execution_count": 24,
     "metadata": {},
     "output_type": "execute_result"
    },
    {
     "data": {
      "image/png": "[encoded data removed]",
      "text/plain": [
       "<matplotlib.figure.Figure at 0xc433160>"
      ]
     },
     "metadata": {},
     "output_type": "display_data"
    }
   ],
   "source": [
    "# So now dataframe is loaded with score per WC team per year, and we can answer question 1, we do this via a factorplot\n",
    "\n",
    "\n",
    "sns.factorplot('name',kind='count',size = 10,aspect = 2.8, data=wcPerf1_df)\n"
   ]
  },
  {
   "cell_type": "markdown",
   "metadata": {},
   "source": [
    "From this we can see that a total of 23 teams have earned a WC sometime in the period 1995 to 2015 out of a total of 30 teams.\n",
    "And that most frequent team Boston Red Sox have done it 7 times followed by New York Yankees 5 times."
   ]
  },
  {
   "cell_type": "code",
   "execution_count": 25,
   "metadata": {
    "collapsed": false
   },
   "outputs": [
    {
     "data": {
      "text/plain": [
       "<seaborn.axisgrid.FacetGrid at 0xb9b64a8>"
      ]
     },
     "execution_count": 25,
     "metadata": {},
     "output_type": "execute_result"
    },
    {
     "data": {
      "image/png": "[encoded data removed]",
      "text/plain": [
       "<matplotlib.figure.Figure at 0xb9b67b8>"
      ]
     },
     "metadata": {},
     "output_type": "display_data"
    }
   ],
   "source": [
    "# In order to answer question 2 we can again use a factorplot on 'lgID' using hue='divID'\n",
    "\n",
    "sns.factorplot('lgID',hue='divID',kind='count',data=wcPerf1_df)"
   ]
  },
  {
   "cell_type": "markdown",
   "metadata": {},
   "source": [
    "Answer to Question 2 is quite clear, Central Division for NL and East division for AL are most frequent divisions to earn Wild Cards."
   ]
  },
  {
   "cell_type": "code",
   "execution_count": 26,
   "metadata": {
    "collapsed": false
   },
   "outputs": [
    {
     "data": {
      "text/html": [
       "<div>\n",
       "<table border=\"1\" class=\"dataframe\">\n",
       "  <thead>\n",
       "    <tr style=\"text-align: right;\">\n",
       "      <th></th>\n",
       "      <th>yearID</th>\n",
       "      <th>Score</th>\n",
       "    </tr>\n",
       "    <tr>\n",
       "      <th>lgID</th>\n",
       "      <th></th>\n",
       "      <th></th>\n",
       "    </tr>\n",
       "  </thead>\n",
       "  <tbody>\n",
       "    <tr>\n",
       "      <th>AL</th>\n",
       "      <td>50159</td>\n",
       "      <td>37</td>\n",
       "    </tr>\n",
       "    <tr>\n",
       "      <th>NL</th>\n",
       "      <td>50159</td>\n",
       "      <td>45</td>\n",
       "    </tr>\n",
       "  </tbody>\n",
       "</table>\n",
       "</div>"
      ],
      "text/plain": [
       "      yearID  Score\n",
       "lgID               \n",
       "AL     50159     37\n",
       "NL     50159     45"
      ]
     },
     "execution_count": 26,
     "metadata": {},
     "output_type": "execute_result"
    }
   ],
   "source": [
    "# In order to answer question 3 we call .groupby and .sum on lgID \n",
    "\n",
    "lgComp_df = wcPerf1_df.groupby(['lgID']).sum()\n",
    "lgComp_df"
   ]
  },
  {
   "cell_type": "markdown",
   "metadata": {},
   "source": [
    "So answer to question 3 is that WC teams in NL have performed better in post season overall than WC teams\n",
    "in AL, we can further dig into the data including name also in the .groupby"
   ]
  },
  {
   "cell_type": "code",
   "execution_count": 27,
   "metadata": {
    "collapsed": false
   },
   "outputs": [
    {
     "data": {
      "text/html": [
       "<div>\n",
       "<table border=\"1\" class=\"dataframe\">\n",
       "  <thead>\n",
       "    <tr style=\"text-align: right;\">\n",
       "      <th></th>\n",
       "      <th></th>\n",
       "      <th>yearID</th>\n",
       "      <th>Score</th>\n",
       "    </tr>\n",
       "    <tr>\n",
       "      <th>lgID</th>\n",
       "      <th>name</th>\n",
       "      <th></th>\n",
       "      <th></th>\n",
       "    </tr>\n",
       "  </thead>\n",
       "  <tbody>\n",
       "    <tr>\n",
       "      <th rowspan=\"12\" valign=\"top\">AL</th>\n",
       "      <th>Anaheim Angels</th>\n",
       "      <td>2002</td>\n",
       "      <td>4</td>\n",
       "    </tr>\n",
       "    <tr>\n",
       "      <th>Baltimore Orioles</th>\n",
       "      <td>4008</td>\n",
       "      <td>3</td>\n",
       "    </tr>\n",
       "    <tr>\n",
       "      <th>Boston Red Sox</th>\n",
       "      <td>14026</td>\n",
       "      <td>13</td>\n",
       "    </tr>\n",
       "    <tr>\n",
       "      <th>Cleveland Indians</th>\n",
       "      <td>2013</td>\n",
       "      <td>0</td>\n",
       "    </tr>\n",
       "    <tr>\n",
       "      <th>Detroit Tigers</th>\n",
       "      <td>2006</td>\n",
       "      <td>3</td>\n",
       "    </tr>\n",
       "    <tr>\n",
       "      <th>Houston Astros</th>\n",
       "      <td>2015</td>\n",
       "      <td>1</td>\n",
       "    </tr>\n",
       "    <tr>\n",
       "      <th>Kansas City Royals</th>\n",
       "      <td>2014</td>\n",
       "      <td>3</td>\n",
       "    </tr>\n",
       "    <tr>\n",
       "      <th>New York Yankees</th>\n",
       "      <td>10024</td>\n",
       "      <td>5</td>\n",
       "    </tr>\n",
       "    <tr>\n",
       "      <th>Oakland Athletics</th>\n",
       "      <td>4015</td>\n",
       "      <td>1</td>\n",
       "    </tr>\n",
       "    <tr>\n",
       "      <th>Seattle Mariners</th>\n",
       "      <td>2000</td>\n",
       "      <td>2</td>\n",
       "    </tr>\n",
       "    <tr>\n",
       "      <th>Tampa Bay Rays</th>\n",
       "      <td>4024</td>\n",
       "      <td>2</td>\n",
       "    </tr>\n",
       "    <tr>\n",
       "      <th>Texas Rangers</th>\n",
       "      <td>2012</td>\n",
       "      <td>0</td>\n",
       "    </tr>\n",
       "    <tr>\n",
       "      <th rowspan=\"12\" valign=\"top\">NL</th>\n",
       "      <th>Atlanta Braves</th>\n",
       "      <td>4022</td>\n",
       "      <td>1</td>\n",
       "    </tr>\n",
       "    <tr>\n",
       "      <th>Chicago Cubs</th>\n",
       "      <td>4013</td>\n",
       "      <td>3</td>\n",
       "    </tr>\n",
       "    <tr>\n",
       "      <th>Cincinnati Reds</th>\n",
       "      <td>2013</td>\n",
       "      <td>0</td>\n",
       "    </tr>\n",
       "    <tr>\n",
       "      <th>Colorado Rockies</th>\n",
       "      <td>6011</td>\n",
       "      <td>5</td>\n",
       "    </tr>\n",
       "    <tr>\n",
       "      <th>Florida Marlins</th>\n",
       "      <td>4000</td>\n",
       "      <td>8</td>\n",
       "    </tr>\n",
       "    <tr>\n",
       "      <th>Houston Astros</th>\n",
       "      <td>4009</td>\n",
       "      <td>5</td>\n",
       "    </tr>\n",
       "    <tr>\n",
       "      <th>Los Angeles Dodgers</th>\n",
       "      <td>4002</td>\n",
       "      <td>2</td>\n",
       "    </tr>\n",
       "    <tr>\n",
       "      <th>Milwaukee Brewers</th>\n",
       "      <td>2008</td>\n",
       "      <td>1</td>\n",
       "    </tr>\n",
       "    <tr>\n",
       "      <th>New York Mets</th>\n",
       "      <td>3999</td>\n",
       "      <td>5</td>\n",
       "    </tr>\n",
       "    <tr>\n",
       "      <th>Pittsburgh Pirates</th>\n",
       "      <td>6042</td>\n",
       "      <td>1</td>\n",
       "    </tr>\n",
       "    <tr>\n",
       "      <th>San Francisco Giants</th>\n",
       "      <td>4016</td>\n",
       "      <td>7</td>\n",
       "    </tr>\n",
       "    <tr>\n",
       "      <th>St. Louis Cardinals</th>\n",
       "      <td>6024</td>\n",
       "      <td>7</td>\n",
       "    </tr>\n",
       "  </tbody>\n",
       "</table>\n",
       "</div>"
      ],
      "text/plain": [
       "                           yearID  Score\n",
       "lgID name                               \n",
       "AL   Anaheim Angels          2002      4\n",
       "     Baltimore Orioles       4008      3\n",
       "     Boston Red Sox         14026     13\n",
       "     Cleveland Indians       2013      0\n",
       "     Detroit Tigers          2006      3\n",
       "     Houston Astros          2015      1\n",
       "     Kansas City Royals      2014      3\n",
       "     New York Yankees       10024      5\n",
       "     Oakland Athletics       4015      1\n",
       "     Seattle Mariners        2000      2\n",
       "     Tampa Bay Rays          4024      2\n",
       "     Texas Rangers           2012      0\n",
       "NL   Atlanta Braves          4022      1\n",
       "     Chicago Cubs            4013      3\n",
       "     Cincinnati Reds         2013      0\n",
       "     Colorado Rockies        6011      5\n",
       "     Florida Marlins         4000      8\n",
       "     Houston Astros          4009      5\n",
       "     Los Angeles Dodgers     4002      2\n",
       "     Milwaukee Brewers       2008      1\n",
       "     New York Mets           3999      5\n",
       "     Pittsburgh Pirates      6042      1\n",
       "     San Francisco Giants    4016      7\n",
       "     St. Louis Cardinals     6024      7"
      ]
     },
     "execution_count": 27,
     "metadata": {},
     "output_type": "execute_result"
    }
   ],
   "source": [
    "lgComp_df = wcPerf1_df.groupby(['lgID','name']).sum()\n",
    "lgComp_df"
   ]
  },
  {
   "cell_type": "markdown",
   "metadata": {},
   "source": [
    "This shows us that while there are only two teams in AL that have overall post season score of >5 \"Yankees\" and \"Red Sox\", there are 6 teams in NL that have overall score of >5 \"Rockies\", \"Marlins\", \"Astros\", \"Mets\", \"Giants\", \"Cardinals\".\n",
    "This indicates that an NL team reaching post season via WC will fair better than an AL team. This conclusion however based on \n",
    "observation only and would require further statistical test to be validated."
   ]
  },
  {
   "cell_type": "code",
   "execution_count": 28,
   "metadata": {
    "collapsed": false
   },
   "outputs": [
    {
     "name": "stdout",
     "output_type": "stream",
     "text": [
      "   index                  name  yearID lgID divID WCWin  Score\n",
      "4   2247       Florida Marlins    1997   NL     E     Y      4\n",
      "14  2385        Anaheim Angels    2002   AL     W     Y      4\n",
      "17  2426       Florida Marlins    2003   NL     E     Y      4\n",
      "18  2449        Boston Red Sox    2004   AL     E     Y      4\n",
      "32  2680   St. Louis Cardinals    2011   NL     C     Y      4\n",
      "45  2769  San Francisco Giants    2014   NL     W     Y      4\n"
     ]
    }
   ],
   "source": [
    "# In order to answer question 4 we slice out of the dataframe rows where 'Scores' equal 4 points. \n",
    "\n",
    "print(wcPerf1_df.loc[wcPerf1_df['Score'] == 4])"
   ]
  },
  {
   "cell_type": "markdown",
   "metadata": {
    "collapsed": true
   },
   "source": [
    "Answer to question 4 is therefore definately Yes, a WC team has gone on to win the World Series 6 times in the 21 years there have been Wild Cards. Especially interesting is Florida Marlins two World Series Wins as WC team, if we re-visit the factor plot in box [43] we can see that also equals the number of times they have earned a Wild Card.  "
   ]
  },
  {
   "cell_type": "markdown",
   "metadata": {},
   "source": [
    "## Sources:\n",
    "\n",
    "http://www.seanlahman.com/baseball-archive/statistics/\n",
    "\n",
    "https://en.wikipedia.org/wiki/Major_League_Baseball_wild_card\n",
    "\n",
    "http://mlb.mlb.com/home\n"
   ]
  }
 ],
 "metadata": {
  "kernelspec": {
   "display_name": "Python 2",
   "language": "python",
   "name": "python2"
  },
  "language_info": {
   "codemirror_mode": {
    "name": "ipython",
    "version": 2
   },
   "file_extension": ".py",
   "mimetype": "text/x-python",
   "name": "python",
   "nbconvert_exporter": "python",
   "pygments_lexer": "ipython2",
   "version": "2.7.11"
  }
 },
 "nbformat": 4,
 "nbformat_minor": 0
}
